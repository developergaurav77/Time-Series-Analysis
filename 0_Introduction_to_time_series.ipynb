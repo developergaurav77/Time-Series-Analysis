{
 "cells": [
  {
   "cell_type": "markdown",
   "id": "b3737228",
   "metadata": {},
   "source": [
    "## Importing Libraries"
   ]
  },
  {
   "cell_type": "code",
   "execution_count": 1,
   "id": "0ace8e43",
   "metadata": {
    "ExecuteTime": {
     "end_time": "2022-08-20T02:30:00.249680Z",
     "start_time": "2022-08-20T02:29:57.633834Z"
    }
   },
   "outputs": [],
   "source": [
    "import numpy as np\n",
    "import pandas as pd\n",
    "import matplotlib.pyplot as plt"
   ]
  },
  {
   "cell_type": "code",
   "execution_count": 2,
   "id": "a7f9ebdd",
   "metadata": {
    "ExecuteTime": {
     "end_time": "2022-08-20T02:30:00.465553Z",
     "start_time": "2022-08-20T02:30:00.264632Z"
    }
   },
   "outputs": [
    {
     "data": {
      "text/html": [
       "<div>\n",
       "<style scoped>\n",
       "    .dataframe tbody tr th:only-of-type {\n",
       "        vertical-align: middle;\n",
       "    }\n",
       "\n",
       "    .dataframe tbody tr th {\n",
       "        vertical-align: top;\n",
       "    }\n",
       "\n",
       "    .dataframe thead th {\n",
       "        text-align: right;\n",
       "    }\n",
       "</style>\n",
       "<table border=\"1\" class=\"dataframe\">\n",
       "  <thead>\n",
       "    <tr style=\"text-align: right;\">\n",
       "      <th></th>\n",
       "      <th>date</th>\n",
       "      <th>spx</th>\n",
       "      <th>dax</th>\n",
       "      <th>ftse</th>\n",
       "      <th>nikkei</th>\n",
       "    </tr>\n",
       "  </thead>\n",
       "  <tbody>\n",
       "    <tr>\n",
       "      <th>0</th>\n",
       "      <td>07/01/1994</td>\n",
       "      <td>469.900000</td>\n",
       "      <td>2224.95</td>\n",
       "      <td>3445.980000</td>\n",
       "      <td>18124.01</td>\n",
       "    </tr>\n",
       "    <tr>\n",
       "      <th>1</th>\n",
       "      <td>10/01/1994</td>\n",
       "      <td>475.270000</td>\n",
       "      <td>2225.00</td>\n",
       "      <td>3440.580000</td>\n",
       "      <td>18443.44</td>\n",
       "    </tr>\n",
       "    <tr>\n",
       "      <th>2</th>\n",
       "      <td>11/01/1994</td>\n",
       "      <td>474.130000</td>\n",
       "      <td>2228.10</td>\n",
       "      <td>3413.770000</td>\n",
       "      <td>18485.25</td>\n",
       "    </tr>\n",
       "    <tr>\n",
       "      <th>3</th>\n",
       "      <td>12/01/1994</td>\n",
       "      <td>474.170000</td>\n",
       "      <td>2182.06</td>\n",
       "      <td>3372.020000</td>\n",
       "      <td>18793.88</td>\n",
       "    </tr>\n",
       "    <tr>\n",
       "      <th>4</th>\n",
       "      <td>13/01/1994</td>\n",
       "      <td>472.470000</td>\n",
       "      <td>2142.37</td>\n",
       "      <td>3360.010000</td>\n",
       "      <td>18577.26</td>\n",
       "    </tr>\n",
       "    <tr>\n",
       "      <th>...</th>\n",
       "      <td>...</td>\n",
       "      <td>...</td>\n",
       "      <td>...</td>\n",
       "      <td>...</td>\n",
       "      <td>...</td>\n",
       "    </tr>\n",
       "    <tr>\n",
       "      <th>6264</th>\n",
       "      <td>23/01/2018</td>\n",
       "      <td>2839.130362</td>\n",
       "      <td>13559.60</td>\n",
       "      <td>7731.827774</td>\n",
       "      <td>24124.15</td>\n",
       "    </tr>\n",
       "    <tr>\n",
       "      <th>6265</th>\n",
       "      <td>24/01/2018</td>\n",
       "      <td>2837.544008</td>\n",
       "      <td>13414.74</td>\n",
       "      <td>7643.428966</td>\n",
       "      <td>23940.78</td>\n",
       "    </tr>\n",
       "    <tr>\n",
       "      <th>6266</th>\n",
       "      <td>25/01/2018</td>\n",
       "      <td>2839.253031</td>\n",
       "      <td>13298.36</td>\n",
       "      <td>7615.839954</td>\n",
       "      <td>23669.49</td>\n",
       "    </tr>\n",
       "    <tr>\n",
       "      <th>6267</th>\n",
       "      <td>26/01/2018</td>\n",
       "      <td>2872.867839</td>\n",
       "      <td>13340.17</td>\n",
       "      <td>7665.541292</td>\n",
       "      <td>23631.88</td>\n",
       "    </tr>\n",
       "    <tr>\n",
       "      <th>6268</th>\n",
       "      <td>29/01/2018</td>\n",
       "      <td>2853.528411</td>\n",
       "      <td>13324.48</td>\n",
       "      <td>7671.533300</td>\n",
       "      <td>23629.34</td>\n",
       "    </tr>\n",
       "  </tbody>\n",
       "</table>\n",
       "<p>6269 rows × 5 columns</p>\n",
       "</div>"
      ],
      "text/plain": [
       "            date          spx       dax         ftse    nikkei\n",
       "0     07/01/1994   469.900000   2224.95  3445.980000  18124.01\n",
       "1     10/01/1994   475.270000   2225.00  3440.580000  18443.44\n",
       "2     11/01/1994   474.130000   2228.10  3413.770000  18485.25\n",
       "3     12/01/1994   474.170000   2182.06  3372.020000  18793.88\n",
       "4     13/01/1994   472.470000   2142.37  3360.010000  18577.26\n",
       "...          ...          ...       ...          ...       ...\n",
       "6264  23/01/2018  2839.130362  13559.60  7731.827774  24124.15\n",
       "6265  24/01/2018  2837.544008  13414.74  7643.428966  23940.78\n",
       "6266  25/01/2018  2839.253031  13298.36  7615.839954  23669.49\n",
       "6267  26/01/2018  2872.867839  13340.17  7665.541292  23631.88\n",
       "6268  29/01/2018  2853.528411  13324.48  7671.533300  23629.34\n",
       "\n",
       "[6269 rows x 5 columns]"
      ]
     },
     "execution_count": 2,
     "metadata": {},
     "output_type": "execute_result"
    }
   ],
   "source": [
    "df_raw = pd.read_csv('dataset/Index2018.csv')\n",
    "df = df_raw.copy()\n",
    "df"
   ]
  },
  {
   "cell_type": "code",
   "execution_count": 3,
   "id": "9e27d163",
   "metadata": {
    "ExecuteTime": {
     "end_time": "2022-08-20T02:30:00.497278Z",
     "start_time": "2022-08-20T02:30:00.470471Z"
    }
   },
   "outputs": [
    {
     "data": {
      "text/plain": [
       "date      0\n",
       "spx       0\n",
       "dax       0\n",
       "ftse      0\n",
       "nikkei    0\n",
       "dtype: int64"
      ]
     },
     "execution_count": 3,
     "metadata": {},
     "output_type": "execute_result"
    }
   ],
   "source": [
    "## checking for null values\n",
    "df.isna().sum()"
   ]
  },
  {
   "cell_type": "code",
   "execution_count": 4,
   "id": "14c4e36b",
   "metadata": {
    "ExecuteTime": {
     "end_time": "2022-08-20T02:30:00.543381Z",
     "start_time": "2022-08-20T02:30:00.504389Z"
    }
   },
   "outputs": [
    {
     "name": "stdout",
     "output_type": "stream",
     "text": [
      "<class 'pandas.core.frame.DataFrame'>\n",
      "RangeIndex: 6269 entries, 0 to 6268\n",
      "Data columns (total 5 columns):\n",
      " #   Column  Non-Null Count  Dtype  \n",
      "---  ------  --------------  -----  \n",
      " 0   date    6269 non-null   object \n",
      " 1   spx     6269 non-null   float64\n",
      " 2   dax     6269 non-null   float64\n",
      " 3   ftse    6269 non-null   float64\n",
      " 4   nikkei  6269 non-null   float64\n",
      "dtypes: float64(4), object(1)\n",
      "memory usage: 245.0+ KB\n"
     ]
    }
   ],
   "source": [
    "df.info()"
   ]
  },
  {
   "cell_type": "markdown",
   "id": "3d26b59d",
   "metadata": {},
   "source": [
    "**date column is not in datetime type, to changing its datatype**"
   ]
  },
  {
   "cell_type": "code",
   "execution_count": 5,
   "id": "bd75f06d",
   "metadata": {
    "ExecuteTime": {
     "end_time": "2022-08-20T02:30:00.606405Z",
     "start_time": "2022-08-20T02:30:00.547384Z"
    }
   },
   "outputs": [
    {
     "name": "stdout",
     "output_type": "stream",
     "text": [
      "<class 'pandas.core.frame.DataFrame'>\n",
      "RangeIndex: 6269 entries, 0 to 6268\n",
      "Data columns (total 5 columns):\n",
      " #   Column  Non-Null Count  Dtype         \n",
      "---  ------  --------------  -----         \n",
      " 0   date    6269 non-null   datetime64[ns]\n",
      " 1   spx     6269 non-null   float64       \n",
      " 2   dax     6269 non-null   float64       \n",
      " 3   ftse    6269 non-null   float64       \n",
      " 4   nikkei  6269 non-null   float64       \n",
      "dtypes: datetime64[ns](1), float64(4)\n",
      "memory usage: 245.0 KB\n"
     ]
    }
   ],
   "source": [
    "df['date'] = pd.to_datetime(df['date'],dayfirst=True)\n",
    "df.info()"
   ]
  },
  {
   "cell_type": "code",
   "execution_count": 6,
   "id": "7a88605e",
   "metadata": {
    "ExecuteTime": {
     "end_time": "2022-08-20T02:30:00.637463Z",
     "start_time": "2022-08-20T02:30:00.609469Z"
    }
   },
   "outputs": [
    {
     "data": {
      "text/html": [
       "<div>\n",
       "<style scoped>\n",
       "    .dataframe tbody tr th:only-of-type {\n",
       "        vertical-align: middle;\n",
       "    }\n",
       "\n",
       "    .dataframe tbody tr th {\n",
       "        vertical-align: top;\n",
       "    }\n",
       "\n",
       "    .dataframe thead th {\n",
       "        text-align: right;\n",
       "    }\n",
       "</style>\n",
       "<table border=\"1\" class=\"dataframe\">\n",
       "  <thead>\n",
       "    <tr style=\"text-align: right;\">\n",
       "      <th></th>\n",
       "      <th>date</th>\n",
       "      <th>spx</th>\n",
       "      <th>dax</th>\n",
       "      <th>ftse</th>\n",
       "      <th>nikkei</th>\n",
       "    </tr>\n",
       "  </thead>\n",
       "  <tbody>\n",
       "    <tr>\n",
       "      <th>0</th>\n",
       "      <td>1994-01-07</td>\n",
       "      <td>469.90</td>\n",
       "      <td>2224.95</td>\n",
       "      <td>3445.98</td>\n",
       "      <td>18124.01</td>\n",
       "    </tr>\n",
       "    <tr>\n",
       "      <th>1</th>\n",
       "      <td>1994-01-10</td>\n",
       "      <td>475.27</td>\n",
       "      <td>2225.00</td>\n",
       "      <td>3440.58</td>\n",
       "      <td>18443.44</td>\n",
       "    </tr>\n",
       "    <tr>\n",
       "      <th>2</th>\n",
       "      <td>1994-01-11</td>\n",
       "      <td>474.13</td>\n",
       "      <td>2228.10</td>\n",
       "      <td>3413.77</td>\n",
       "      <td>18485.25</td>\n",
       "    </tr>\n",
       "    <tr>\n",
       "      <th>3</th>\n",
       "      <td>1994-01-12</td>\n",
       "      <td>474.17</td>\n",
       "      <td>2182.06</td>\n",
       "      <td>3372.02</td>\n",
       "      <td>18793.88</td>\n",
       "    </tr>\n",
       "    <tr>\n",
       "      <th>4</th>\n",
       "      <td>1994-01-13</td>\n",
       "      <td>472.47</td>\n",
       "      <td>2142.37</td>\n",
       "      <td>3360.01</td>\n",
       "      <td>18577.26</td>\n",
       "    </tr>\n",
       "  </tbody>\n",
       "</table>\n",
       "</div>"
      ],
      "text/plain": [
       "        date     spx      dax     ftse    nikkei\n",
       "0 1994-01-07  469.90  2224.95  3445.98  18124.01\n",
       "1 1994-01-10  475.27  2225.00  3440.58  18443.44\n",
       "2 1994-01-11  474.13  2228.10  3413.77  18485.25\n",
       "3 1994-01-12  474.17  2182.06  3372.02  18793.88\n",
       "4 1994-01-13  472.47  2142.37  3360.01  18577.26"
      ]
     },
     "execution_count": 6,
     "metadata": {},
     "output_type": "execute_result"
    }
   ],
   "source": [
    "df.head()"
   ]
  },
  {
   "cell_type": "code",
   "execution_count": 7,
   "id": "98e18fec",
   "metadata": {
    "ExecuteTime": {
     "end_time": "2022-08-20T02:30:00.683269Z",
     "start_time": "2022-08-20T02:30:00.641481Z"
    }
   },
   "outputs": [
    {
     "data": {
      "text/html": [
       "<div>\n",
       "<style scoped>\n",
       "    .dataframe tbody tr th:only-of-type {\n",
       "        vertical-align: middle;\n",
       "    }\n",
       "\n",
       "    .dataframe tbody tr th {\n",
       "        vertical-align: top;\n",
       "    }\n",
       "\n",
       "    .dataframe thead th {\n",
       "        text-align: right;\n",
       "    }\n",
       "</style>\n",
       "<table border=\"1\" class=\"dataframe\">\n",
       "  <thead>\n",
       "    <tr style=\"text-align: right;\">\n",
       "      <th></th>\n",
       "      <th>spx</th>\n",
       "      <th>dax</th>\n",
       "      <th>ftse</th>\n",
       "      <th>nikkei</th>\n",
       "    </tr>\n",
       "  </thead>\n",
       "  <tbody>\n",
       "    <tr>\n",
       "      <th>count</th>\n",
       "      <td>6269.000000</td>\n",
       "      <td>6269.000000</td>\n",
       "      <td>6269.000000</td>\n",
       "      <td>6269.000000</td>\n",
       "    </tr>\n",
       "    <tr>\n",
       "      <th>mean</th>\n",
       "      <td>1288.127542</td>\n",
       "      <td>6080.063363</td>\n",
       "      <td>5422.713545</td>\n",
       "      <td>14597.055700</td>\n",
       "    </tr>\n",
       "    <tr>\n",
       "      <th>std</th>\n",
       "      <td>487.586473</td>\n",
       "      <td>2754.361032</td>\n",
       "      <td>1145.572428</td>\n",
       "      <td>4043.122953</td>\n",
       "    </tr>\n",
       "    <tr>\n",
       "      <th>min</th>\n",
       "      <td>438.920000</td>\n",
       "      <td>1911.700000</td>\n",
       "      <td>2876.600000</td>\n",
       "      <td>7054.980000</td>\n",
       "    </tr>\n",
       "    <tr>\n",
       "      <th>25%</th>\n",
       "      <td>990.671905</td>\n",
       "      <td>4069.350000</td>\n",
       "      <td>4486.100000</td>\n",
       "      <td>10709.290000</td>\n",
       "    </tr>\n",
       "    <tr>\n",
       "      <th>50%</th>\n",
       "      <td>1233.420000</td>\n",
       "      <td>5773.340000</td>\n",
       "      <td>5662.430000</td>\n",
       "      <td>15028.170000</td>\n",
       "    </tr>\n",
       "    <tr>\n",
       "      <th>75%</th>\n",
       "      <td>1459.987747</td>\n",
       "      <td>7443.070000</td>\n",
       "      <td>6304.250000</td>\n",
       "      <td>17860.470000</td>\n",
       "    </tr>\n",
       "    <tr>\n",
       "      <th>max</th>\n",
       "      <td>2872.867839</td>\n",
       "      <td>13559.600000</td>\n",
       "      <td>7778.637689</td>\n",
       "      <td>24124.150000</td>\n",
       "    </tr>\n",
       "  </tbody>\n",
       "</table>\n",
       "</div>"
      ],
      "text/plain": [
       "               spx           dax         ftse        nikkei\n",
       "count  6269.000000   6269.000000  6269.000000   6269.000000\n",
       "mean   1288.127542   6080.063363  5422.713545  14597.055700\n",
       "std     487.586473   2754.361032  1145.572428   4043.122953\n",
       "min     438.920000   1911.700000  2876.600000   7054.980000\n",
       "25%     990.671905   4069.350000  4486.100000  10709.290000\n",
       "50%    1233.420000   5773.340000  5662.430000  15028.170000\n",
       "75%    1459.987747   7443.070000  6304.250000  17860.470000\n",
       "max    2872.867839  13559.600000  7778.637689  24124.150000"
      ]
     },
     "execution_count": 7,
     "metadata": {},
     "output_type": "execute_result"
    }
   ],
   "source": [
    "df.describe()"
   ]
  },
  {
   "cell_type": "markdown",
   "id": "e322512d",
   "metadata": {},
   "source": [
    "## Plotting the data"
   ]
  },
  {
   "cell_type": "code",
   "execution_count": 8,
   "id": "956f9087",
   "metadata": {
    "ExecuteTime": {
     "end_time": "2022-08-20T02:30:01.540210Z",
     "start_time": "2022-08-20T02:30:00.687285Z"
    }
   },
   "outputs": [
    {
     "data": {
      "image/png": "[encoded data removed]",
      "text/plain": [
       "<Figure size 432x288 with 1 Axes>"
      ]
     },
     "metadata": {
      "needs_background": "light"
     },
     "output_type": "display_data"
    }
   ],
   "source": [
    "df.plot(y=['spx','dax','ftse','nikkei'],x='date')\n",
    "plt.show()"
   ]
  },
  {
   "cell_type": "code",
   "execution_count": 9,
   "id": "a186aec4",
   "metadata": {
    "ExecuteTime": {
     "end_time": "2022-08-20T02:30:01.850464Z",
     "start_time": "2022-08-20T02:30:01.545274Z"
    }
   },
   "outputs": [
    {
     "data": {
      "text/plain": [
       "<AxesSubplot:title={'center':'S&P500 Prices'}>"
      ]
     },
     "execution_count": 9,
     "metadata": {},
     "output_type": "execute_result"
    },
    {
     "data": {
      "image/png": "[encoded data removed]",
      "text/plain": [
       "<Figure size 1440x360 with 1 Axes>"
      ]
     },
     "metadata": {
      "needs_background": "light"
     },
     "output_type": "display_data"
    }
   ],
   "source": [
    "df.spx.plot(figsize=(20,5),title='S&P500 Prices')"
   ]
  },
  {
   "cell_type": "code",
   "execution_count": 10,
   "id": "b388e4a9",
   "metadata": {
    "ExecuteTime": {
     "end_time": "2022-08-20T02:30:02.190976Z",
     "start_time": "2022-08-20T02:30:01.856677Z"
    }
   },
   "outputs": [
    {
     "data": {
      "text/plain": [
       "<AxesSubplot:title={'center':'FTS100 Prices'}>"
      ]
     },
     "execution_count": 10,
     "metadata": {},
     "output_type": "execute_result"
    },
    {
     "data": {
      "image/png": "[encoded data removed]",
      "text/plain": [
       "<Figure size 1440x360 with 1 Axes>"
      ]
     },
     "metadata": {
      "needs_background": "light"
     },
     "output_type": "display_data"
    }
   ],
   "source": [
    "df.ftse.plot(figsize=(20,5),title='FTS100 Prices')"
   ]
  },
  {
   "cell_type": "code",
   "execution_count": 11,
   "id": "97e041cb",
   "metadata": {
    "ExecuteTime": {
     "end_time": "2022-08-20T02:30:02.548806Z",
     "start_time": "2022-08-20T02:30:02.194972Z"
    }
   },
   "outputs": [
    {
     "data": {
      "image/png": "[encoded data removed]",
      "text/plain": [
       "<Figure size 1440x360 with 1 Axes>"
      ]
     },
     "metadata": {
      "needs_background": "light"
     },
     "output_type": "display_data"
    }
   ],
   "source": [
    "#combining in onne graph:\n",
    "df.spx.plot(figsize=(20,5),title='S&P500 Prices')\n",
    "df.ftse.plot(figsize=(20,5),title='FTS100 Prices')\n",
    "plt.title('spx vs ftse')\n",
    "plt.show()"
   ]
  },
  {
   "cell_type": "markdown",
   "id": "e6eba35a",
   "metadata": {},
   "source": [
    "## The Quantile-Quantile plot(QQ Plot)"
   ]
  },
  {
   "cell_type": "code",
   "execution_count": 12,
   "id": "2c3d8e54",
   "metadata": {
    "ExecuteTime": {
     "end_time": "2022-08-20T02:30:04.553945Z",
     "start_time": "2022-08-20T02:30:02.552513Z"
    }
   },
   "outputs": [],
   "source": [
    "import scipy.stats\n",
    "import pylab"
   ]
  },
  {
   "cell_type": "code",
   "execution_count": 13,
   "id": "01cfef47",
   "metadata": {
    "ExecuteTime": {
     "end_time": "2022-08-20T02:30:04.865741Z",
     "start_time": "2022-08-20T02:30:04.558696Z"
    }
   },
   "outputs": [
    {
     "data": {
      "image/png": "[encoded data removed]",
      "text/plain": [
       "<Figure size 432x288 with 1 Axes>"
      ]
     },
     "metadata": {
      "needs_background": "light"
     },
     "output_type": "display_data"
    }
   ],
   "source": [
    "scipy.stats.probplot(df.spx,plot=pylab)\n",
    "pylab.show()\n",
    "#redline- what the datapoints should follow, if they are normally distibuted,\n",
    "#we have more values around 500, so data is not normally distributed.\n",
    "#x-axis : how many standard deviations away from the mean these values are.\n"
   ]
  },
  {
   "cell_type": "code",
   "execution_count": 14,
   "id": "17f90949",
   "metadata": {
    "ExecuteTime": {
     "end_time": "2022-08-20T02:30:04.897126Z",
     "start_time": "2022-08-20T02:30:04.873788Z"
    }
   },
   "outputs": [
    {
     "name": "stderr",
     "output_type": "stream",
     "text": [
      "C:\\Users\\DELL\\AppData\\Local\\Temp/ipykernel_1852/1371252037.py:1: FutureWarning: Treating datetime data as categorical rather than numeric in `.describe` is deprecated and will be removed in a future version of pandas. Specify `datetime_is_numeric=True` to silence this warning and adopt the future behavior now.\n",
      "  df.date.describe()\n"
     ]
    },
    {
     "data": {
      "text/plain": [
       "count                    6269\n",
       "unique                   6269\n",
       "top       1994-01-07 00:00:00\n",
       "freq                        1\n",
       "first     1994-01-07 00:00:00\n",
       "last      2018-01-29 00:00:00\n",
       "Name: date, dtype: object"
      ]
     },
     "execution_count": 14,
     "metadata": {},
     "output_type": "execute_result"
    }
   ],
   "source": [
    "df.date.describe()"
   ]
  },
  {
   "cell_type": "markdown",
   "id": "18697dc1",
   "metadata": {
    "ExecuteTime": {
     "end_time": "2022-08-19T10:20:16.278643Z",
     "start_time": "2022-08-19T10:20:16.264654Z"
    }
   },
   "source": [
    "## Setting the Index"
   ]
  },
  {
   "cell_type": "code",
   "execution_count": 15,
   "id": "451e8b0f",
   "metadata": {
    "ExecuteTime": {
     "end_time": "2022-08-20T02:30:04.927442Z",
     "start_time": "2022-08-20T02:30:04.901456Z"
    }
   },
   "outputs": [
    {
     "data": {
      "text/html": [
       "<div>\n",
       "<style scoped>\n",
       "    .dataframe tbody tr th:only-of-type {\n",
       "        vertical-align: middle;\n",
       "    }\n",
       "\n",
       "    .dataframe tbody tr th {\n",
       "        vertical-align: top;\n",
       "    }\n",
       "\n",
       "    .dataframe thead th {\n",
       "        text-align: right;\n",
       "    }\n",
       "</style>\n",
       "<table border=\"1\" class=\"dataframe\">\n",
       "  <thead>\n",
       "    <tr style=\"text-align: right;\">\n",
       "      <th></th>\n",
       "      <th>spx</th>\n",
       "      <th>dax</th>\n",
       "      <th>ftse</th>\n",
       "      <th>nikkei</th>\n",
       "    </tr>\n",
       "    <tr>\n",
       "      <th>date</th>\n",
       "      <th></th>\n",
       "      <th></th>\n",
       "      <th></th>\n",
       "      <th></th>\n",
       "    </tr>\n",
       "  </thead>\n",
       "  <tbody>\n",
       "    <tr>\n",
       "      <th>1994-01-07</th>\n",
       "      <td>469.90</td>\n",
       "      <td>2224.95</td>\n",
       "      <td>3445.98</td>\n",
       "      <td>18124.01</td>\n",
       "    </tr>\n",
       "    <tr>\n",
       "      <th>1994-01-10</th>\n",
       "      <td>475.27</td>\n",
       "      <td>2225.00</td>\n",
       "      <td>3440.58</td>\n",
       "      <td>18443.44</td>\n",
       "    </tr>\n",
       "    <tr>\n",
       "      <th>1994-01-11</th>\n",
       "      <td>474.13</td>\n",
       "      <td>2228.10</td>\n",
       "      <td>3413.77</td>\n",
       "      <td>18485.25</td>\n",
       "    </tr>\n",
       "    <tr>\n",
       "      <th>1994-01-12</th>\n",
       "      <td>474.17</td>\n",
       "      <td>2182.06</td>\n",
       "      <td>3372.02</td>\n",
       "      <td>18793.88</td>\n",
       "    </tr>\n",
       "    <tr>\n",
       "      <th>1994-01-13</th>\n",
       "      <td>472.47</td>\n",
       "      <td>2142.37</td>\n",
       "      <td>3360.01</td>\n",
       "      <td>18577.26</td>\n",
       "    </tr>\n",
       "  </tbody>\n",
       "</table>\n",
       "</div>"
      ],
      "text/plain": [
       "               spx      dax     ftse    nikkei\n",
       "date                                          \n",
       "1994-01-07  469.90  2224.95  3445.98  18124.01\n",
       "1994-01-10  475.27  2225.00  3440.58  18443.44\n",
       "1994-01-11  474.13  2228.10  3413.77  18485.25\n",
       "1994-01-12  474.17  2182.06  3372.02  18793.88\n",
       "1994-01-13  472.47  2142.37  3360.01  18577.26"
      ]
     },
     "execution_count": 15,
     "metadata": {},
     "output_type": "execute_result"
    }
   ],
   "source": [
    "df.set_index('date',inplace=True)\n",
    "df.head()"
   ]
  },
  {
   "cell_type": "markdown",
   "id": "47317b25",
   "metadata": {},
   "source": [
    "## Setting the Desired Frequency"
   ]
  },
  {
   "cell_type": "code",
   "execution_count": 16,
   "id": "b81bc911",
   "metadata": {
    "ExecuteTime": {
     "end_time": "2022-08-20T02:30:05.101347Z",
     "start_time": "2022-08-20T02:30:04.931468Z"
    }
   },
   "outputs": [
    {
     "data": {
      "text/html": [
       "<div>\n",
       "<style scoped>\n",
       "    .dataframe tbody tr th:only-of-type {\n",
       "        vertical-align: middle;\n",
       "    }\n",
       "\n",
       "    .dataframe tbody tr th {\n",
       "        vertical-align: top;\n",
       "    }\n",
       "\n",
       "    .dataframe thead th {\n",
       "        text-align: right;\n",
       "    }\n",
       "</style>\n",
       "<table border=\"1\" class=\"dataframe\">\n",
       "  <thead>\n",
       "    <tr style=\"text-align: right;\">\n",
       "      <th></th>\n",
       "      <th>spx</th>\n",
       "      <th>dax</th>\n",
       "      <th>ftse</th>\n",
       "      <th>nikkei</th>\n",
       "    </tr>\n",
       "    <tr>\n",
       "      <th>date</th>\n",
       "      <th></th>\n",
       "      <th></th>\n",
       "      <th></th>\n",
       "      <th></th>\n",
       "    </tr>\n",
       "  </thead>\n",
       "  <tbody>\n",
       "    <tr>\n",
       "      <th>1994-01-07</th>\n",
       "      <td>469.900000</td>\n",
       "      <td>2224.95</td>\n",
       "      <td>3445.980000</td>\n",
       "      <td>18124.01</td>\n",
       "    </tr>\n",
       "    <tr>\n",
       "      <th>1994-01-10</th>\n",
       "      <td>475.270000</td>\n",
       "      <td>2225.00</td>\n",
       "      <td>3440.580000</td>\n",
       "      <td>18443.44</td>\n",
       "    </tr>\n",
       "    <tr>\n",
       "      <th>1994-01-11</th>\n",
       "      <td>474.130000</td>\n",
       "      <td>2228.10</td>\n",
       "      <td>3413.770000</td>\n",
       "      <td>18485.25</td>\n",
       "    </tr>\n",
       "    <tr>\n",
       "      <th>1994-01-12</th>\n",
       "      <td>474.170000</td>\n",
       "      <td>2182.06</td>\n",
       "      <td>3372.020000</td>\n",
       "      <td>18793.88</td>\n",
       "    </tr>\n",
       "    <tr>\n",
       "      <th>1994-01-13</th>\n",
       "      <td>472.470000</td>\n",
       "      <td>2142.37</td>\n",
       "      <td>3360.010000</td>\n",
       "      <td>18577.26</td>\n",
       "    </tr>\n",
       "    <tr>\n",
       "      <th>...</th>\n",
       "      <td>...</td>\n",
       "      <td>...</td>\n",
       "      <td>...</td>\n",
       "      <td>...</td>\n",
       "    </tr>\n",
       "    <tr>\n",
       "      <th>2018-01-23</th>\n",
       "      <td>2839.130362</td>\n",
       "      <td>13559.60</td>\n",
       "      <td>7731.827774</td>\n",
       "      <td>24124.15</td>\n",
       "    </tr>\n",
       "    <tr>\n",
       "      <th>2018-01-24</th>\n",
       "      <td>2837.544008</td>\n",
       "      <td>13414.74</td>\n",
       "      <td>7643.428966</td>\n",
       "      <td>23940.78</td>\n",
       "    </tr>\n",
       "    <tr>\n",
       "      <th>2018-01-25</th>\n",
       "      <td>2839.253031</td>\n",
       "      <td>13298.36</td>\n",
       "      <td>7615.839954</td>\n",
       "      <td>23669.49</td>\n",
       "    </tr>\n",
       "    <tr>\n",
       "      <th>2018-01-26</th>\n",
       "      <td>2872.867839</td>\n",
       "      <td>13340.17</td>\n",
       "      <td>7665.541292</td>\n",
       "      <td>23631.88</td>\n",
       "    </tr>\n",
       "    <tr>\n",
       "      <th>2018-01-29</th>\n",
       "      <td>2853.528411</td>\n",
       "      <td>13324.48</td>\n",
       "      <td>7671.533300</td>\n",
       "      <td>23629.34</td>\n",
       "    </tr>\n",
       "  </tbody>\n",
       "</table>\n",
       "<p>6277 rows × 4 columns</p>\n",
       "</div>"
      ],
      "text/plain": [
       "                    spx       dax         ftse    nikkei\n",
       "date                                                    \n",
       "1994-01-07   469.900000   2224.95  3445.980000  18124.01\n",
       "1994-01-10   475.270000   2225.00  3440.580000  18443.44\n",
       "1994-01-11   474.130000   2228.10  3413.770000  18485.25\n",
       "1994-01-12   474.170000   2182.06  3372.020000  18793.88\n",
       "1994-01-13   472.470000   2142.37  3360.010000  18577.26\n",
       "...                 ...       ...          ...       ...\n",
       "2018-01-23  2839.130362  13559.60  7731.827774  24124.15\n",
       "2018-01-24  2837.544008  13414.74  7643.428966  23940.78\n",
       "2018-01-25  2839.253031  13298.36  7615.839954  23669.49\n",
       "2018-01-26  2872.867839  13340.17  7665.541292  23631.88\n",
       "2018-01-29  2853.528411  13324.48  7671.533300  23629.34\n",
       "\n",
       "[6277 rows x 4 columns]"
      ]
     },
     "execution_count": 16,
     "metadata": {},
     "output_type": "execute_result"
    }
   ],
   "source": [
    "# df = df.asfreq('m') #setting frequecy to month\n",
    "df = df.asfreq('b') #setting its frequency to business days only\n",
    "df"
   ]
  },
  {
   "cell_type": "markdown",
   "id": "3a092de1",
   "metadata": {},
   "source": [
    "## Handling Missing Values"
   ]
  },
  {
   "cell_type": "code",
   "execution_count": 17,
   "id": "9ef52e29",
   "metadata": {
    "ExecuteTime": {
     "end_time": "2022-08-20T02:30:05.132307Z",
     "start_time": "2022-08-20T02:30:05.106404Z"
    }
   },
   "outputs": [
    {
     "data": {
      "text/plain": [
       "spx       8\n",
       "dax       8\n",
       "ftse      8\n",
       "nikkei    8\n",
       "dtype: int64"
      ]
     },
     "execution_count": 17,
     "metadata": {},
     "output_type": "execute_result"
    }
   ],
   "source": [
    "df.isna().sum()"
   ]
  },
  {
   "cell_type": "code",
   "execution_count": 18,
   "id": "bf41abb8",
   "metadata": {
    "ExecuteTime": {
     "end_time": "2022-08-20T02:30:05.162481Z",
     "start_time": "2022-08-20T02:30:05.137313Z"
    }
   },
   "outputs": [
    {
     "data": {
      "text/html": [
       "<div>\n",
       "<style scoped>\n",
       "    .dataframe tbody tr th:only-of-type {\n",
       "        vertical-align: middle;\n",
       "    }\n",
       "\n",
       "    .dataframe tbody tr th {\n",
       "        vertical-align: top;\n",
       "    }\n",
       "\n",
       "    .dataframe thead th {\n",
       "        text-align: right;\n",
       "    }\n",
       "</style>\n",
       "<table border=\"1\" class=\"dataframe\">\n",
       "  <thead>\n",
       "    <tr style=\"text-align: right;\">\n",
       "      <th></th>\n",
       "      <th>spx</th>\n",
       "      <th>dax</th>\n",
       "      <th>ftse</th>\n",
       "      <th>nikkei</th>\n",
       "    </tr>\n",
       "    <tr>\n",
       "      <th>date</th>\n",
       "      <th></th>\n",
       "      <th></th>\n",
       "      <th></th>\n",
       "      <th></th>\n",
       "    </tr>\n",
       "  </thead>\n",
       "  <tbody>\n",
       "    <tr>\n",
       "      <th>2008-01-01</th>\n",
       "      <td>NaN</td>\n",
       "      <td>NaN</td>\n",
       "      <td>NaN</td>\n",
       "      <td>NaN</td>\n",
       "    </tr>\n",
       "    <tr>\n",
       "      <th>2009-01-01</th>\n",
       "      <td>NaN</td>\n",
       "      <td>NaN</td>\n",
       "      <td>NaN</td>\n",
       "      <td>NaN</td>\n",
       "    </tr>\n",
       "    <tr>\n",
       "      <th>2010-01-01</th>\n",
       "      <td>NaN</td>\n",
       "      <td>NaN</td>\n",
       "      <td>NaN</td>\n",
       "      <td>NaN</td>\n",
       "    </tr>\n",
       "    <tr>\n",
       "      <th>2013-01-01</th>\n",
       "      <td>NaN</td>\n",
       "      <td>NaN</td>\n",
       "      <td>NaN</td>\n",
       "      <td>NaN</td>\n",
       "    </tr>\n",
       "    <tr>\n",
       "      <th>2014-01-01</th>\n",
       "      <td>NaN</td>\n",
       "      <td>NaN</td>\n",
       "      <td>NaN</td>\n",
       "      <td>NaN</td>\n",
       "    </tr>\n",
       "    <tr>\n",
       "      <th>2015-01-01</th>\n",
       "      <td>NaN</td>\n",
       "      <td>NaN</td>\n",
       "      <td>NaN</td>\n",
       "      <td>NaN</td>\n",
       "    </tr>\n",
       "    <tr>\n",
       "      <th>2016-01-01</th>\n",
       "      <td>NaN</td>\n",
       "      <td>NaN</td>\n",
       "      <td>NaN</td>\n",
       "      <td>NaN</td>\n",
       "    </tr>\n",
       "    <tr>\n",
       "      <th>2018-01-01</th>\n",
       "      <td>NaN</td>\n",
       "      <td>NaN</td>\n",
       "      <td>NaN</td>\n",
       "      <td>NaN</td>\n",
       "    </tr>\n",
       "  </tbody>\n",
       "</table>\n",
       "</div>"
      ],
      "text/plain": [
       "            spx  dax  ftse  nikkei\n",
       "date                              \n",
       "2008-01-01  NaN  NaN   NaN     NaN\n",
       "2009-01-01  NaN  NaN   NaN     NaN\n",
       "2010-01-01  NaN  NaN   NaN     NaN\n",
       "2013-01-01  NaN  NaN   NaN     NaN\n",
       "2014-01-01  NaN  NaN   NaN     NaN\n",
       "2015-01-01  NaN  NaN   NaN     NaN\n",
       "2016-01-01  NaN  NaN   NaN     NaN\n",
       "2018-01-01  NaN  NaN   NaN     NaN"
      ]
     },
     "execution_count": 18,
     "metadata": {},
     "output_type": "execute_result"
    }
   ],
   "source": [
    "df[df.spx.isna() == True]"
   ]
  },
  {
   "cell_type": "code",
   "execution_count": 19,
   "id": "bdb9f0b5",
   "metadata": {
    "ExecuteTime": {
     "end_time": "2022-08-20T02:30:05.193397Z",
     "start_time": "2022-08-20T02:30:05.165460Z"
    }
   },
   "outputs": [
    {
     "data": {
      "text/plain": [
       "spx       0\n",
       "dax       8\n",
       "ftse      8\n",
       "nikkei    8\n",
       "dtype: int64"
      ]
     },
     "execution_count": 19,
     "metadata": {},
     "output_type": "execute_result"
    }
   ],
   "source": [
    "#frontfilling - assign the value of the previous period\n",
    "df.spx.fillna(method='ffill',inplace=True)\n",
    "df.isna().sum()"
   ]
  },
  {
   "cell_type": "code",
   "execution_count": 20,
   "id": "b02effcf",
   "metadata": {
    "ExecuteTime": {
     "end_time": "2022-08-20T02:30:05.223546Z",
     "start_time": "2022-08-20T02:30:05.196395Z"
    }
   },
   "outputs": [
    {
     "data": {
      "text/plain": [
       "spx       0\n",
       "dax       0\n",
       "ftse      8\n",
       "nikkei    0\n",
       "dtype: int64"
      ]
     },
     "execution_count": 20,
     "metadata": {},
     "output_type": "execute_result"
    }
   ],
   "source": [
    "#backfilling - assign the value from next period\n",
    "df.dax.fillna(method='bfill',inplace=True)\n",
    "df.nikkei.fillna(method='bfill',inplace=True)\n",
    "\n",
    "df.isna().sum()"
   ]
  },
  {
   "cell_type": "code",
   "execution_count": 21,
   "id": "60737f95",
   "metadata": {
    "ExecuteTime": {
     "end_time": "2022-08-20T02:30:05.253749Z",
     "start_time": "2022-08-20T02:30:05.227036Z"
    }
   },
   "outputs": [
    {
     "data": {
      "text/plain": [
       "spx       0\n",
       "dax       0\n",
       "ftse      0\n",
       "nikkei    0\n",
       "dtype: int64"
      ]
     },
     "execution_count": 21,
     "metadata": {},
     "output_type": "execute_result"
    }
   ],
   "source": [
    "#mean\n",
    "df.ftse.fillna(value=df.ftse.mean(),inplace=True)\n",
    "df.isna().sum()"
   ]
  },
  {
   "cell_type": "markdown",
   "id": "f9bfb2a4",
   "metadata": {},
   "source": [
    "## Simplifying Dataset"
   ]
  },
  {
   "cell_type": "code",
   "execution_count": 22,
   "id": "76540ddb",
   "metadata": {
    "ExecuteTime": {
     "end_time": "2022-08-20T02:30:05.284797Z",
     "start_time": "2022-08-20T02:30:05.257750Z"
    }
   },
   "outputs": [
    {
     "data": {
      "text/html": [
       "<div>\n",
       "<style scoped>\n",
       "    .dataframe tbody tr th:only-of-type {\n",
       "        vertical-align: middle;\n",
       "    }\n",
       "\n",
       "    .dataframe tbody tr th {\n",
       "        vertical-align: top;\n",
       "    }\n",
       "\n",
       "    .dataframe thead th {\n",
       "        text-align: right;\n",
       "    }\n",
       "</style>\n",
       "<table border=\"1\" class=\"dataframe\">\n",
       "  <thead>\n",
       "    <tr style=\"text-align: right;\">\n",
       "      <th></th>\n",
       "      <th>market_value</th>\n",
       "    </tr>\n",
       "    <tr>\n",
       "      <th>date</th>\n",
       "      <th></th>\n",
       "    </tr>\n",
       "  </thead>\n",
       "  <tbody>\n",
       "    <tr>\n",
       "      <th>1994-01-07</th>\n",
       "      <td>469.900000</td>\n",
       "    </tr>\n",
       "    <tr>\n",
       "      <th>1994-01-10</th>\n",
       "      <td>475.270000</td>\n",
       "    </tr>\n",
       "    <tr>\n",
       "      <th>1994-01-11</th>\n",
       "      <td>474.130000</td>\n",
       "    </tr>\n",
       "    <tr>\n",
       "      <th>1994-01-12</th>\n",
       "      <td>474.170000</td>\n",
       "    </tr>\n",
       "    <tr>\n",
       "      <th>1994-01-13</th>\n",
       "      <td>472.470000</td>\n",
       "    </tr>\n",
       "    <tr>\n",
       "      <th>...</th>\n",
       "      <td>...</td>\n",
       "    </tr>\n",
       "    <tr>\n",
       "      <th>2018-01-23</th>\n",
       "      <td>2839.130362</td>\n",
       "    </tr>\n",
       "    <tr>\n",
       "      <th>2018-01-24</th>\n",
       "      <td>2837.544008</td>\n",
       "    </tr>\n",
       "    <tr>\n",
       "      <th>2018-01-25</th>\n",
       "      <td>2839.253031</td>\n",
       "    </tr>\n",
       "    <tr>\n",
       "      <th>2018-01-26</th>\n",
       "      <td>2872.867839</td>\n",
       "    </tr>\n",
       "    <tr>\n",
       "      <th>2018-01-29</th>\n",
       "      <td>2853.528411</td>\n",
       "    </tr>\n",
       "  </tbody>\n",
       "</table>\n",
       "<p>6277 rows × 1 columns</p>\n",
       "</div>"
      ],
      "text/plain": [
       "            market_value\n",
       "date                    \n",
       "1994-01-07    469.900000\n",
       "1994-01-10    475.270000\n",
       "1994-01-11    474.130000\n",
       "1994-01-12    474.170000\n",
       "1994-01-13    472.470000\n",
       "...                  ...\n",
       "2018-01-23   2839.130362\n",
       "2018-01-24   2837.544008\n",
       "2018-01-25   2839.253031\n",
       "2018-01-26   2872.867839\n",
       "2018-01-29   2853.528411\n",
       "\n",
       "[6277 rows x 1 columns]"
      ]
     },
     "execution_count": 22,
     "metadata": {},
     "output_type": "execute_result"
    }
   ],
   "source": [
    "df.rename(columns={'spx':'market_value'},inplace=True)\n",
    "df.drop(columns=['dax','ftse','nikkei'],inplace=True)\n",
    "df"
   ]
  },
  {
   "cell_type": "markdown",
   "id": "0fde04ee",
   "metadata": {},
   "source": [
    "## Splitting the data"
   ]
  },
  {
   "cell_type": "code",
   "execution_count": 23,
   "id": "f5fbeb44",
   "metadata": {
    "ExecuteTime": {
     "end_time": "2022-08-20T02:30:05.299750Z",
     "start_time": "2022-08-20T02:30:05.287754Z"
    }
   },
   "outputs": [
    {
     "data": {
      "text/plain": [
       "5021"
      ]
     },
     "execution_count": 23,
     "metadata": {},
     "output_type": "execute_result"
    }
   ],
   "source": [
    "size = int(len(df) * 0.8)\n",
    "size"
   ]
  },
  {
   "cell_type": "code",
   "execution_count": 24,
   "id": "5aeadc48",
   "metadata": {
    "ExecuteTime": {
     "end_time": "2022-08-20T02:30:05.315750Z",
     "start_time": "2022-08-20T02:30:05.302749Z"
    }
   },
   "outputs": [],
   "source": [
    "df_train = df.iloc[:size]\n",
    "df_test = df.iloc[size:]"
   ]
  },
  {
   "cell_type": "code",
   "execution_count": 25,
   "id": "8d44bd0b",
   "metadata": {
    "ExecuteTime": {
     "end_time": "2022-08-20T02:30:05.331200Z",
     "start_time": "2022-08-20T02:30:05.320012Z"
    }
   },
   "outputs": [
    {
     "data": {
      "text/html": [
       "<div>\n",
       "<style scoped>\n",
       "    .dataframe tbody tr th:only-of-type {\n",
       "        vertical-align: middle;\n",
       "    }\n",
       "\n",
       "    .dataframe tbody tr th {\n",
       "        vertical-align: top;\n",
       "    }\n",
       "\n",
       "    .dataframe thead th {\n",
       "        text-align: right;\n",
       "    }\n",
       "</style>\n",
       "<table border=\"1\" class=\"dataframe\">\n",
       "  <thead>\n",
       "    <tr style=\"text-align: right;\">\n",
       "      <th></th>\n",
       "      <th>market_value</th>\n",
       "    </tr>\n",
       "    <tr>\n",
       "      <th>date</th>\n",
       "      <th></th>\n",
       "    </tr>\n",
       "  </thead>\n",
       "  <tbody>\n",
       "    <tr>\n",
       "      <th>2013-04-01</th>\n",
       "      <td>1562.173837</td>\n",
       "    </tr>\n",
       "    <tr>\n",
       "      <th>2013-04-02</th>\n",
       "      <td>1570.252238</td>\n",
       "    </tr>\n",
       "    <tr>\n",
       "      <th>2013-04-03</th>\n",
       "      <td>1553.686978</td>\n",
       "    </tr>\n",
       "    <tr>\n",
       "      <th>2013-04-04</th>\n",
       "      <td>1559.979316</td>\n",
       "    </tr>\n",
       "    <tr>\n",
       "      <th>2013-04-05</th>\n",
       "      <td>1553.278930</td>\n",
       "    </tr>\n",
       "  </tbody>\n",
       "</table>\n",
       "</div>"
      ],
      "text/plain": [
       "            market_value\n",
       "date                    \n",
       "2013-04-01   1562.173837\n",
       "2013-04-02   1570.252238\n",
       "2013-04-03   1553.686978\n",
       "2013-04-04   1559.979316\n",
       "2013-04-05   1553.278930"
      ]
     },
     "execution_count": 25,
     "metadata": {},
     "output_type": "execute_result"
    }
   ],
   "source": [
    "df_train.tail()"
   ]
  },
  {
   "cell_type": "code",
   "execution_count": 27,
   "id": "b3006e70",
   "metadata": {
    "ExecuteTime": {
     "end_time": "2022-08-20T02:30:14.392449Z",
     "start_time": "2022-08-20T02:30:14.377648Z"
    }
   },
   "outputs": [
    {
     "data": {
      "text/html": [
       "<div>\n",
       "<style scoped>\n",
       "    .dataframe tbody tr th:only-of-type {\n",
       "        vertical-align: middle;\n",
       "    }\n",
       "\n",
       "    .dataframe tbody tr th {\n",
       "        vertical-align: top;\n",
       "    }\n",
       "\n",
       "    .dataframe thead th {\n",
       "        text-align: right;\n",
       "    }\n",
       "</style>\n",
       "<table border=\"1\" class=\"dataframe\">\n",
       "  <thead>\n",
       "    <tr style=\"text-align: right;\">\n",
       "      <th></th>\n",
       "      <th>market_value</th>\n",
       "    </tr>\n",
       "    <tr>\n",
       "      <th>date</th>\n",
       "      <th></th>\n",
       "    </tr>\n",
       "  </thead>\n",
       "  <tbody>\n",
       "    <tr>\n",
       "      <th>2013-04-08</th>\n",
       "      <td>1563.071269</td>\n",
       "    </tr>\n",
       "    <tr>\n",
       "      <th>2013-04-09</th>\n",
       "      <td>1568.607909</td>\n",
       "    </tr>\n",
       "    <tr>\n",
       "      <th>2013-04-10</th>\n",
       "      <td>1587.731827</td>\n",
       "    </tr>\n",
       "    <tr>\n",
       "      <th>2013-04-11</th>\n",
       "      <td>1593.369863</td>\n",
       "    </tr>\n",
       "    <tr>\n",
       "      <th>2013-04-12</th>\n",
       "      <td>1588.854623</td>\n",
       "    </tr>\n",
       "  </tbody>\n",
       "</table>\n",
       "</div>"
      ],
      "text/plain": [
       "            market_value\n",
       "date                    \n",
       "2013-04-08   1563.071269\n",
       "2013-04-09   1568.607909\n",
       "2013-04-10   1587.731827\n",
       "2013-04-11   1593.369863\n",
       "2013-04-12   1588.854623"
      ]
     },
     "execution_count": 27,
     "metadata": {},
     "output_type": "execute_result"
    }
   ],
   "source": [
    "df_test.head()"
   ]
  },
  {
   "cell_type": "markdown",
   "id": "bbc984f1",
   "metadata": {},
   "source": [
    "## White Noise \n",
    "A sequence of random data, where value has a time-period associated with it.<br>\n",
    "condition to be white noise:\n",
    "1. constant mean\n",
    "2. constant variance\n",
    "3. no autocorrelation"
   ]
  },
  {
   "cell_type": "code",
   "execution_count": 40,
   "id": "a4f70246",
   "metadata": {
    "ExecuteTime": {
     "end_time": "2022-08-20T02:51:08.453605Z",
     "start_time": "2022-08-20T02:51:08.434601Z"
    }
   },
   "outputs": [
    {
     "data": {
      "text/plain": [
       "array([2093.92011511, 1597.75648732, 1390.69407624, ..., 1567.82254302,\n",
       "        861.75488909,  909.04941775])"
      ]
     },
     "execution_count": 40,
     "metadata": {},
     "output_type": "execute_result"
    }
   ],
   "source": [
    "wn = np.random.normal(loc=df.market_value.mean(),scale=df.market_value.std(),size=len(df_train))\n",
    "wn"
   ]
  },
  {
   "cell_type": "code",
   "execution_count": 41,
   "id": "f98be981",
   "metadata": {
    "ExecuteTime": {
     "end_time": "2022-08-20T02:51:17.671653Z",
     "start_time": "2022-08-20T02:51:17.650223Z"
    }
   },
   "outputs": [
    {
     "name": "stderr",
     "output_type": "stream",
     "text": [
      "C:\\Users\\DELL\\AppData\\Local\\Temp/ipykernel_1852/2767877954.py:1: SettingWithCopyWarning: \n",
      "A value is trying to be set on a copy of a slice from a DataFrame.\n",
      "Try using .loc[row_indexer,col_indexer] = value instead\n",
      "\n",
      "See the caveats in the documentation: https://pandas.pydata.org/pandas-docs/stable/user_guide/indexing.html#returning-a-view-versus-a-copy\n",
      "  df_train['wn'] = wn\n"
     ]
    }
   ],
   "source": [
    "df_train['wn'] = wn"
   ]
  },
  {
   "cell_type": "code",
   "execution_count": 42,
   "id": "fafca4bc",
   "metadata": {
    "ExecuteTime": {
     "end_time": "2022-08-20T02:51:31.154434Z",
     "start_time": "2022-08-20T02:51:31.127614Z"
    }
   },
   "outputs": [
    {
     "data": {
      "text/html": [
       "<div>\n",
       "<style scoped>\n",
       "    .dataframe tbody tr th:only-of-type {\n",
       "        vertical-align: middle;\n",
       "    }\n",
       "\n",
       "    .dataframe tbody tr th {\n",
       "        vertical-align: top;\n",
       "    }\n",
       "\n",
       "    .dataframe thead th {\n",
       "        text-align: right;\n",
       "    }\n",
       "</style>\n",
       "<table border=\"1\" class=\"dataframe\">\n",
       "  <thead>\n",
       "    <tr style=\"text-align: right;\">\n",
       "      <th></th>\n",
       "      <th>market_value</th>\n",
       "      <th>wn</th>\n",
       "    </tr>\n",
       "  </thead>\n",
       "  <tbody>\n",
       "    <tr>\n",
       "      <th>count</th>\n",
       "      <td>5021.000000</td>\n",
       "      <td>5021.000000</td>\n",
       "    </tr>\n",
       "    <tr>\n",
       "      <th>mean</th>\n",
       "      <td>1091.651926</td>\n",
       "      <td>1283.490161</td>\n",
       "    </tr>\n",
       "    <tr>\n",
       "      <th>std</th>\n",
       "      <td>292.559287</td>\n",
       "      <td>485.846638</td>\n",
       "    </tr>\n",
       "    <tr>\n",
       "      <th>min</th>\n",
       "      <td>438.920000</td>\n",
       "      <td>-452.521589</td>\n",
       "    </tr>\n",
       "    <tr>\n",
       "      <th>25%</th>\n",
       "      <td>914.620000</td>\n",
       "      <td>955.659905</td>\n",
       "    </tr>\n",
       "    <tr>\n",
       "      <th>50%</th>\n",
       "      <td>1144.650000</td>\n",
       "      <td>1275.017374</td>\n",
       "    </tr>\n",
       "    <tr>\n",
       "      <th>75%</th>\n",
       "      <td>1316.280729</td>\n",
       "      <td>1613.138294</td>\n",
       "    </tr>\n",
       "    <tr>\n",
       "      <th>max</th>\n",
       "      <td>1570.252238</td>\n",
       "      <td>2981.679857</td>\n",
       "    </tr>\n",
       "  </tbody>\n",
       "</table>\n",
       "</div>"
      ],
      "text/plain": [
       "       market_value           wn\n",
       "count   5021.000000  5021.000000\n",
       "mean    1091.651926  1283.490161\n",
       "std      292.559287   485.846638\n",
       "min      438.920000  -452.521589\n",
       "25%      914.620000   955.659905\n",
       "50%     1144.650000  1275.017374\n",
       "75%     1316.280729  1613.138294\n",
       "max     1570.252238  2981.679857"
      ]
     },
     "execution_count": 42,
     "metadata": {},
     "output_type": "execute_result"
    }
   ],
   "source": [
    "df_train.describe()"
   ]
  },
  {
   "cell_type": "code",
   "execution_count": 43,
   "id": "9d4519fc",
   "metadata": {
    "ExecuteTime": {
     "end_time": "2022-08-20T02:51:37.098639Z",
     "start_time": "2022-08-20T02:51:36.552460Z"
    }
   },
   "outputs": [
    {
     "data": {
      "image/png": "[encoded data removed]",
      "text/plain": [
       "<Figure size 432x288 with 1 Axes>"
      ]
     },
     "metadata": {
      "needs_background": "light"
     },
     "output_type": "display_data"
    }
   ],
   "source": [
    "df_train.wn.plot()\n",
    "plt.title(\"white Noise Time Series\",size=24)\n",
    "plt.show()"
   ]
  },
  {
   "cell_type": "code",
   "execution_count": 44,
   "id": "1cae7bf8",
   "metadata": {
    "ExecuteTime": {
     "end_time": "2022-08-20T02:51:41.669876Z",
     "start_time": "2022-08-20T02:51:41.286746Z"
    }
   },
   "outputs": [
    {
     "data": {
      "image/png": "[encoded data removed]",
      "text/plain": [
       "<Figure size 432x288 with 1 Axes>"
      ]
     },
     "metadata": {
      "needs_background": "light"
     },
     "output_type": "display_data"
    }
   ],
   "source": [
    "df_train.market_value.plot()\n",
    "plt.ylim(-1000,3000)\n",
    "plt.show()"
   ]
  },
  {
   "cell_type": "markdown",
   "id": "0ac05260",
   "metadata": {
    "ExecuteTime": {
     "end_time": "2022-08-20T02:46:58.305451Z",
     "start_time": "2022-08-20T02:46:58.296282Z"
    }
   },
   "source": [
    "## Random Walk"
   ]
  },
  {
   "cell_type": "code",
   "execution_count": 45,
   "id": "78f9f3fa",
   "metadata": {
    "ExecuteTime": {
     "end_time": "2022-08-20T02:51:45.530377Z",
     "start_time": "2022-08-20T02:51:45.362736Z"
    }
   },
   "outputs": [
    {
     "data": {
      "text/html": [
       "<div>\n",
       "<style scoped>\n",
       "    .dataframe tbody tr th:only-of-type {\n",
       "        vertical-align: middle;\n",
       "    }\n",
       "\n",
       "    .dataframe tbody tr th {\n",
       "        vertical-align: top;\n",
       "    }\n",
       "\n",
       "    .dataframe thead th {\n",
       "        text-align: right;\n",
       "    }\n",
       "</style>\n",
       "<table border=\"1\" class=\"dataframe\">\n",
       "  <thead>\n",
       "    <tr style=\"text-align: right;\">\n",
       "      <th></th>\n",
       "      <th>price</th>\n",
       "    </tr>\n",
       "  </thead>\n",
       "  <tbody>\n",
       "    <tr>\n",
       "      <th>count</th>\n",
       "      <td>5020.000000</td>\n",
       "    </tr>\n",
       "    <tr>\n",
       "      <th>mean</th>\n",
       "      <td>1270.104756</td>\n",
       "    </tr>\n",
       "    <tr>\n",
       "      <th>std</th>\n",
       "      <td>444.064313</td>\n",
       "    </tr>\n",
       "    <tr>\n",
       "      <th>min</th>\n",
       "      <td>574.382397</td>\n",
       "    </tr>\n",
       "    <tr>\n",
       "      <th>25%</th>\n",
       "      <td>932.331267</td>\n",
       "    </tr>\n",
       "    <tr>\n",
       "      <th>50%</th>\n",
       "      <td>1157.158604</td>\n",
       "    </tr>\n",
       "    <tr>\n",
       "      <th>75%</th>\n",
       "      <td>1488.403748</td>\n",
       "    </tr>\n",
       "    <tr>\n",
       "      <th>max</th>\n",
       "      <td>2715.508720</td>\n",
       "    </tr>\n",
       "  </tbody>\n",
       "</table>\n",
       "</div>"
      ],
      "text/plain": [
       "             price\n",
       "count  5020.000000\n",
       "mean   1270.104756\n",
       "std     444.064313\n",
       "min     574.382397\n",
       "25%     932.331267\n",
       "50%    1157.158604\n",
       "75%    1488.403748\n",
       "max    2715.508720"
      ]
     },
     "execution_count": 45,
     "metadata": {},
     "output_type": "execute_result"
    }
   ],
   "source": [
    "rw = pd.read_csv('Dataset/RandWalk.csv')\n",
    "rw['date'] = pd.to_datetime(rw['date'])\n",
    "rw.set_index('date',inplace=True)\n",
    "rw = rw.asfreq('b')\n",
    "rw.describe()"
   ]
  },
  {
   "cell_type": "code",
   "execution_count": 46,
   "id": "258a1bf0",
   "metadata": {
    "ExecuteTime": {
     "end_time": "2022-08-20T02:51:55.493226Z",
     "start_time": "2022-08-20T02:51:55.471540Z"
    }
   },
   "outputs": [
    {
     "name": "stderr",
     "output_type": "stream",
     "text": [
      "C:\\Users\\DELL\\AppData\\Local\\Temp/ipykernel_1852/2662832184.py:1: SettingWithCopyWarning: \n",
      "A value is trying to be set on a copy of a slice from a DataFrame.\n",
      "Try using .loc[row_indexer,col_indexer] = value instead\n",
      "\n",
      "See the caveats in the documentation: https://pandas.pydata.org/pandas-docs/stable/user_guide/indexing.html#returning-a-view-versus-a-copy\n",
      "  df_train['rw'] = rw['price']\n"
     ]
    },
    {
     "data": {
      "text/html": [
       "<div>\n",
       "<style scoped>\n",
       "    .dataframe tbody tr th:only-of-type {\n",
       "        vertical-align: middle;\n",
       "    }\n",
       "\n",
       "    .dataframe tbody tr th {\n",
       "        vertical-align: top;\n",
       "    }\n",
       "\n",
       "    .dataframe thead th {\n",
       "        text-align: right;\n",
       "    }\n",
       "</style>\n",
       "<table border=\"1\" class=\"dataframe\">\n",
       "  <thead>\n",
       "    <tr style=\"text-align: right;\">\n",
       "      <th></th>\n",
       "      <th>market_value</th>\n",
       "      <th>wn</th>\n",
       "      <th>rw</th>\n",
       "    </tr>\n",
       "    <tr>\n",
       "      <th>date</th>\n",
       "      <th></th>\n",
       "      <th></th>\n",
       "      <th></th>\n",
       "    </tr>\n",
       "  </thead>\n",
       "  <tbody>\n",
       "    <tr>\n",
       "      <th>1994-01-07</th>\n",
       "      <td>469.900000</td>\n",
       "      <td>2093.920115</td>\n",
       "      <td>1231.997040</td>\n",
       "    </tr>\n",
       "    <tr>\n",
       "      <th>1994-01-10</th>\n",
       "      <td>475.270000</td>\n",
       "      <td>1597.756487</td>\n",
       "      <td>1116.460877</td>\n",
       "    </tr>\n",
       "    <tr>\n",
       "      <th>1994-01-11</th>\n",
       "      <td>474.130000</td>\n",
       "      <td>1390.694076</td>\n",
       "      <td>1144.203545</td>\n",
       "    </tr>\n",
       "    <tr>\n",
       "      <th>1994-01-12</th>\n",
       "      <td>474.170000</td>\n",
       "      <td>1220.528564</td>\n",
       "      <td>1179.172504</td>\n",
       "    </tr>\n",
       "    <tr>\n",
       "      <th>1994-01-13</th>\n",
       "      <td>472.470000</td>\n",
       "      <td>1116.301108</td>\n",
       "      <td>1067.146255</td>\n",
       "    </tr>\n",
       "    <tr>\n",
       "      <th>...</th>\n",
       "      <td>...</td>\n",
       "      <td>...</td>\n",
       "      <td>...</td>\n",
       "    </tr>\n",
       "    <tr>\n",
       "      <th>2013-04-01</th>\n",
       "      <td>1562.173837</td>\n",
       "      <td>1345.494458</td>\n",
       "      <td>2131.040117</td>\n",
       "    </tr>\n",
       "    <tr>\n",
       "      <th>2013-04-02</th>\n",
       "      <td>1570.252238</td>\n",
       "      <td>1813.030043</td>\n",
       "      <td>1967.652494</td>\n",
       "    </tr>\n",
       "    <tr>\n",
       "      <th>2013-04-03</th>\n",
       "      <td>1553.686978</td>\n",
       "      <td>1567.822543</td>\n",
       "      <td>2063.828303</td>\n",
       "    </tr>\n",
       "    <tr>\n",
       "      <th>2013-04-04</th>\n",
       "      <td>1559.979316</td>\n",
       "      <td>861.754889</td>\n",
       "      <td>2195.240033</td>\n",
       "    </tr>\n",
       "    <tr>\n",
       "      <th>2013-04-05</th>\n",
       "      <td>1553.278930</td>\n",
       "      <td>909.049418</td>\n",
       "      <td>NaN</td>\n",
       "    </tr>\n",
       "  </tbody>\n",
       "</table>\n",
       "<p>5021 rows × 3 columns</p>\n",
       "</div>"
      ],
      "text/plain": [
       "            market_value           wn           rw\n",
       "date                                              \n",
       "1994-01-07    469.900000  2093.920115  1231.997040\n",
       "1994-01-10    475.270000  1597.756487  1116.460877\n",
       "1994-01-11    474.130000  1390.694076  1144.203545\n",
       "1994-01-12    474.170000  1220.528564  1179.172504\n",
       "1994-01-13    472.470000  1116.301108  1067.146255\n",
       "...                  ...          ...          ...\n",
       "2013-04-01   1562.173837  1345.494458  2131.040117\n",
       "2013-04-02   1570.252238  1813.030043  1967.652494\n",
       "2013-04-03   1553.686978  1567.822543  2063.828303\n",
       "2013-04-04   1559.979316   861.754889  2195.240033\n",
       "2013-04-05   1553.278930   909.049418          NaN\n",
       "\n",
       "[5021 rows x 3 columns]"
      ]
     },
     "execution_count": 46,
     "metadata": {},
     "output_type": "execute_result"
    }
   ],
   "source": [
    "df_train['rw'] = rw['price']\n",
    "df_train"
   ]
  },
  {
   "cell_type": "code",
   "execution_count": 51,
   "id": "cb32531d",
   "metadata": {
    "ExecuteTime": {
     "end_time": "2022-08-20T02:54:55.887609Z",
     "start_time": "2022-08-20T02:54:55.296705Z"
    }
   },
   "outputs": [
    {
     "data": {
      "image/png": "[encoded data removed]",
      "text/plain": [
       "<Figure size 1440x360 with 1 Axes>"
      ]
     },
     "metadata": {
      "needs_background": "light"
     },
     "output_type": "display_data"
    }
   ],
   "source": [
    "df_train.rw.plot(figsize=(20,5))\n",
    "df_train.market_value.plot(figsize=(20,5))\n",
    "plt.title('Random Walk vs market value',size=24)\n",
    "\n",
    "plt.show()"
   ]
  },
  {
   "cell_type": "code",
   "execution_count": null,
   "id": "09f4e630",
   "metadata": {},
   "outputs": [],
   "source": []
  }
 ],
 "metadata": {
  "kernelspec": {
   "display_name": "Python 3 (ipykernel)",
   "language": "python",
   "name": "python3"
  },
  "language_info": {
   "codemirror_mode": {
    "name": "ipython",
    "version": 3
   },
   "file_extension": ".py",
   "mimetype": "text/x-python",
   "name": "python",
   "nbconvert_exporter": "python",
   "pygments_lexer": "ipython3",
   "version": "3.9.7"
  },
  "toc": {
   "base_numbering": 1,
   "nav_menu": {},
   "number_sections": true,
   "sideBar": true,
   "skip_h1_title": false,
   "title_cell": "Table of Contents",
   "title_sidebar": "Contents",
   "toc_cell": false,
   "toc_position": {},
   "toc_section_display": true,
   "toc_window_display": false
  },
  "varInspector": {
   "cols": {
    "lenName": 16,
    "lenType": 16,
    "lenVar": 40
   },
   "kernels_config": {
    "python": {
     "delete_cmd_postfix": "",
     "delete_cmd_prefix": "del ",
     "library": "var_list.py",
     "varRefreshCmd": "print(var_dic_list())"
    },
    "r": {
     "delete_cmd_postfix": ") ",
     "delete_cmd_prefix": "rm(",
     "library": "var_list.r",
     "varRefreshCmd": "cat(var_dic_list()) "
    }
   },
   "types_to_exclude": [
    "module",
    "function",
    "builtin_function_or_method",
    "instance",
    "_Feature"
   ],
   "window_display": false
  }
 },
 "nbformat": 4,
 "nbformat_minor": 5
}
